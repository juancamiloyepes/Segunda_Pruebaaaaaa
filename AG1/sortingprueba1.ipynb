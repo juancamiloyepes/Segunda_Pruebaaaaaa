{
  "nbformat": 4,
  "nbformat_minor": 0,
  "metadata": {
    "colab": {
      "provenance": [],
      "authorship_tag": "ABX9TyO7dBNEvcqi/b3993q0gZwH",
      "include_colab_link": true
    },
    "kernelspec": {
      "name": "python3",
      "display_name": "Python 3"
    },
    "language_info": {
      "name": "python"
    }
  },
  "cells": [
    {
      "cell_type": "markdown",
      "metadata": {
        "id": "view-in-github",
        "colab_type": "text"
      },
      "source": [
        "<a href=\"https://colab.research.google.com/github/juancamiloyepes/Segunda_Pruebaaaaaa/blob/main/AG1/sortingprueba1.ipynb\" target=\"_parent\"><img src=\"https://colab.research.google.com/assets/colab-badge.svg\" alt=\"Open In Colab\"/></a>"
      ]
    },
    {
      "cell_type": "code",
      "execution_count": null,
      "metadata": {
        "id": "s8LsszgT9orF"
      },
      "outputs": [],
      "source": [
        "!pip install sorting"
      ]
    },
    {
      "cell_type": "markdown",
      "source": [],
      "metadata": {
        "id": "JBIFa5MX94Br"
      }
    },
    {
      "cell_type": "code",
      "source": [
        "import sorting\n",
        "\n",
        "lista= [4,3,2,3,4,5]\n",
        "lista_ordenada= sorting.bubble(lista)\n",
        "lista_ordenada"
      ],
      "metadata": {
        "colab": {
          "base_uri": "https://localhost:8080/"
        },
        "id": "Qz9Ukc4v_GIE",
        "outputId": "8493f8a6-85a0-4001-a0a5-d84f4597bd7f"
      },
      "execution_count": null,
      "outputs": [
        {
          "output_type": "execute_result",
          "data": {
            "text/plain": [
              "[2, 3, 3, 4, 4, 5]"
            ]
          },
          "metadata": {},
          "execution_count": 6
        }
      ]
    },
    {
      "cell_type": "markdown",
      "source": [],
      "metadata": {
        "id": "D0i84J10_Fv5"
      }
    }
  ]
}